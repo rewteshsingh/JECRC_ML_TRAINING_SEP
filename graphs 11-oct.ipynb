{
 "cells": [
  {
   "cell_type": "code",
   "execution_count": 1,
   "metadata": {},
   "outputs": [],
   "source": [
    "import matplotlib.pylab as plt\n"
   ]
  },
  {
   "cell_type": "code",
   "execution_count": 2,
   "metadata": {},
   "outputs": [],
   "source": [
    "# Types of Graphs\n",
    "#1. plot -        line graph,beteen two parameters \n",
    "#2. bar -         bar graph of single parameter(optional cat_data) \n",
    "#3. hist -        histogram of a bunch of data i.e. frequency of a single parameter\n",
    "#4. scatter -     dot graph between two parameters\n",
    "#5. boxplot/box - statistical overview in form of box for a single parameter\n",
    "#                  mean,outliers,quantiles, (23%,75%), IQR  \n",
    "#                 (optional - categorial data) \n",
    "#6. stem -        more like bar graph, lines instead of bars\n",
    "#7. violinplot -  violin shapped statistical overview graph \n",
    "#                  spread of data (more llike hist)\n",
    "#                  single parameter (optional cat_data)\n"
   ]
  },
  {
   "cell_type": "code",
   "execution_count": 3,
   "metadata": {},
   "outputs": [],
   "source": [
    "import numpy as np\n",
    "\n",
    "\n",
    "x = np.linspace(0,5,10)\n",
    "x1 = np.arange(1,11,3)"
   ]
  },
  {
   "cell_type": "code",
   "execution_count": 4,
   "metadata": {},
   "outputs": [
    {
     "data": {
      "text/plain": [
       "array([0.        , 0.55555556, 1.11111111, 1.66666667, 2.22222222,\n",
       "       2.77777778, 3.33333333, 3.88888889, 4.44444444, 5.        ])"
      ]
     },
     "execution_count": 4,
     "metadata": {},
     "output_type": "execute_result"
    }
   ],
   "source": [
    "x"
   ]
  },
  {
   "cell_type": "code",
   "execution_count": 5,
   "metadata": {},
   "outputs": [
    {
     "data": {
      "text/plain": [
       "array([ 1,  4,  7, 10])"
      ]
     },
     "execution_count": 5,
     "metadata": {},
     "output_type": "execute_result"
    }
   ],
   "source": [
    "x1"
   ]
  },
  {
   "cell_type": "code",
   "execution_count": 6,
   "metadata": {},
   "outputs": [],
   "source": [
    "y = x**3"
   ]
  },
  {
   "cell_type": "code",
   "execution_count": 7,
   "metadata": {},
   "outputs": [
    {
     "data": {
      "image/png": "[encoded data removed]",
      "text/plain": [
       "<Figure size 432x288 with 1 Axes>"
      ]
     },
     "metadata": {
      "needs_background": "light"
     },
     "output_type": "display_data"
    }
   ],
   "source": [
    "plt.plot(x,y)\n",
    "plt.title('plot')\n",
    "plt.grid()\n",
    "plt.xlabel\n",
    "plt.ylabel\n",
    "plt.xticks\n",
    "plt.yticks(range(0,200,10))\n",
    "plt.show()"
   ]
  },
  {
   "cell_type": "code",
   "execution_count": 8,
   "metadata": {},
   "outputs": [
    {
     "data": {
      "text/plain": [
       "([<matplotlib.axis.YTick at 0x28481a43070>,\n",
       "  <matplotlib.axis.YTick at 0x28481a398b0>,\n",
       "  <matplotlib.axis.YTick at 0x28481a337f0>,\n",
       "  <matplotlib.axis.YTick at 0x28481a83070>,\n",
       "  <matplotlib.axis.YTick at 0x28481a836a0>,\n",
       "  <matplotlib.axis.YTick at 0x28481a83df0>,\n",
       "  <matplotlib.axis.YTick at 0x28481a8a580>,\n",
       "  <matplotlib.axis.YTick at 0x28481a83940>,\n",
       "  <matplotlib.axis.YTick at 0x28481a8a2e0>,\n",
       "  <matplotlib.axis.YTick at 0x28481a8e070>,\n",
       "  <matplotlib.axis.YTick at 0x28481a8e7c0>,\n",
       "  <matplotlib.axis.YTick at 0x28481a95070>,\n",
       "  <matplotlib.axis.YTick at 0x28481a956a0>,\n",
       "  <matplotlib.axis.YTick at 0x28481a8ec70>,\n",
       "  <matplotlib.axis.YTick at 0x28481a8adf0>,\n",
       "  <matplotlib.axis.YTick at 0x28481a95970>,\n",
       "  <matplotlib.axis.YTick at 0x28481aa03d0>,\n",
       "  <matplotlib.axis.YTick at 0x28481aa0b20>,\n",
       "  <matplotlib.axis.YTick at 0x28481aa62b0>,\n",
       "  <matplotlib.axis.YTick at 0x28481aa6a00>],\n",
       " [Text(0, 0, ''),\n",
       "  Text(0, 0, ''),\n",
       "  Text(0, 0, ''),\n",
       "  Text(0, 0, ''),\n",
       "  Text(0, 0, ''),\n",
       "  Text(0, 0, ''),\n",
       "  Text(0, 0, ''),\n",
       "  Text(0, 0, ''),\n",
       "  Text(0, 0, ''),\n",
       "  Text(0, 0, ''),\n",
       "  Text(0, 0, ''),\n",
       "  Text(0, 0, ''),\n",
       "  Text(0, 0, ''),\n",
       "  Text(0, 0, ''),\n",
       "  Text(0, 0, ''),\n",
       "  Text(0, 0, ''),\n",
       "  Text(0, 0, ''),\n",
       "  Text(0, 0, ''),\n",
       "  Text(0, 0, ''),\n",
       "  Text(0, 0, '')])"
      ]
     },
     "execution_count": 8,
     "metadata": {},
     "output_type": "execute_result"
    },
    {
     "data": {
      "image/png": "[encoded data removed]",
      "text/plain": [
       "<Figure size 432x288 with 1 Axes>"
      ]
     },
     "metadata": {
      "needs_background": "light"
     },
     "output_type": "display_data"
    }
   ],
   "source": [
    "plt.bar(x,y)\n",
    "plt.title('bar')\n",
    "plt.grid()\n",
    "plt.xlabel\n",
    "plt.ylabel\n",
    "plt.xticks\n",
    "plt.yticks(range(0,200,10))\n"
   ]
  },
  {
   "cell_type": "code",
   "execution_count": 9,
   "metadata": {},
   "outputs": [
    {
     "data": {
      "text/plain": [
       "([<matplotlib.axis.YTick at 0x28481ae6df0>,\n",
       "  <matplotlib.axis.YTick at 0x28481ae6670>,\n",
       "  <matplotlib.axis.YTick at 0x28481ae0520>,\n",
       "  <matplotlib.axis.YTick at 0x28481b1eac0>,\n",
       "  <matplotlib.axis.YTick at 0x28481b2a250>,\n",
       "  <matplotlib.axis.YTick at 0x28481b2a9a0>,\n",
       "  <matplotlib.axis.YTick at 0x28481b2b130>,\n",
       "  <matplotlib.axis.YTick at 0x28481b2b880>,\n",
       "  <matplotlib.axis.YTick at 0x28481b2bc70>,\n",
       "  <matplotlib.axis.YTick at 0x28481b2ac40>,\n",
       "  <matplotlib.axis.YTick at 0x28481b1e850>,\n",
       "  <matplotlib.axis.YTick at 0x28481b356d0>,\n",
       "  <matplotlib.axis.YTick at 0x28481b35e20>,\n",
       "  <matplotlib.axis.YTick at 0x28481b3e5b0>,\n",
       "  <matplotlib.axis.YTick at 0x28481b3ed00>,\n",
       "  <matplotlib.axis.YTick at 0x28481b3ea90>,\n",
       "  <matplotlib.axis.YTick at 0x28481b35790>,\n",
       "  <matplotlib.axis.YTick at 0x28481b44370>,\n",
       "  <matplotlib.axis.YTick at 0x28481b449a0>,\n",
       "  <matplotlib.axis.YTick at 0x28481b4b1c0>],\n",
       " [Text(0, 0, ''),\n",
       "  Text(0, 0, ''),\n",
       "  Text(0, 0, ''),\n",
       "  Text(0, 0, ''),\n",
       "  Text(0, 0, ''),\n",
       "  Text(0, 0, ''),\n",
       "  Text(0, 0, ''),\n",
       "  Text(0, 0, ''),\n",
       "  Text(0, 0, ''),\n",
       "  Text(0, 0, ''),\n",
       "  Text(0, 0, ''),\n",
       "  Text(0, 0, ''),\n",
       "  Text(0, 0, ''),\n",
       "  Text(0, 0, ''),\n",
       "  Text(0, 0, ''),\n",
       "  Text(0, 0, ''),\n",
       "  Text(0, 0, ''),\n",
       "  Text(0, 0, ''),\n",
       "  Text(0, 0, ''),\n",
       "  Text(0, 0, '')])"
      ]
     },
     "execution_count": 9,
     "metadata": {},
     "output_type": "execute_result"
    },
    {
     "data": {
      "image/png": "[encoded data removed]",
      "text/plain": [
       "<Figure size 432x288 with 1 Axes>"
      ]
     },
     "metadata": {
      "needs_background": "light"
     },
     "output_type": "display_data"
    }
   ],
   "source": [
    "plt.hist(y)\n",
    "plt.title('hist')\n",
    "plt.grid()\n",
    "plt.xlabel\n",
    "plt.ylabel\n",
    "plt.xticks\n",
    "plt.yticks(range(0,200,10))"
   ]
  },
  {
   "cell_type": "code",
   "execution_count": 10,
   "metadata": {},
   "outputs": [
    {
     "data": {
      "text/plain": [
       "([<matplotlib.axis.YTick at 0x28481b90a00>,\n",
       "  <matplotlib.axis.YTick at 0x28481b90280>,\n",
       "  <matplotlib.axis.YTick at 0x28481b8b1c0>,\n",
       "  <matplotlib.axis.YTick at 0x28481bbca30>,\n",
       "  <matplotlib.axis.YTick at 0x28481bc51c0>,\n",
       "  <matplotlib.axis.YTick at 0x28481bc5910>,\n",
       "  <matplotlib.axis.YTick at 0x28481bc80a0>,\n",
       "  <matplotlib.axis.YTick at 0x28481bc59d0>,\n",
       "  <matplotlib.axis.YTick at 0x28481bbc6a0>,\n",
       "  <matplotlib.axis.YTick at 0x28481bc8a60>,\n",
       "  <matplotlib.axis.YTick at 0x28481bd21f0>,\n",
       "  <matplotlib.axis.YTick at 0x28481bd2940>,\n",
       "  <matplotlib.axis.YTick at 0x28481bd80d0>,\n",
       "  <matplotlib.axis.YTick at 0x28481bd2d30>,\n",
       "  <matplotlib.axis.YTick at 0x28481bc8d00>,\n",
       "  <matplotlib.axis.YTick at 0x28481bd8970>,\n",
       "  <matplotlib.axis.YTick at 0x28481bd8df0>,\n",
       "  <matplotlib.axis.YTick at 0x28481be0580>,\n",
       "  <matplotlib.axis.YTick at 0x28481be0cd0>,\n",
       "  <matplotlib.axis.YTick at 0x28481be5460>],\n",
       " [Text(0, 0, ''),\n",
       "  Text(0, 0, ''),\n",
       "  Text(0, 0, ''),\n",
       "  Text(0, 0, ''),\n",
       "  Text(0, 0, ''),\n",
       "  Text(0, 0, ''),\n",
       "  Text(0, 0, ''),\n",
       "  Text(0, 0, ''),\n",
       "  Text(0, 0, ''),\n",
       "  Text(0, 0, ''),\n",
       "  Text(0, 0, ''),\n",
       "  Text(0, 0, ''),\n",
       "  Text(0, 0, ''),\n",
       "  Text(0, 0, ''),\n",
       "  Text(0, 0, ''),\n",
       "  Text(0, 0, ''),\n",
       "  Text(0, 0, ''),\n",
       "  Text(0, 0, ''),\n",
       "  Text(0, 0, ''),\n",
       "  Text(0, 0, '')])"
      ]
     },
     "execution_count": 10,
     "metadata": {},
     "output_type": "execute_result"
    },
    {
     "data": {
      "image/png": "[encoded data removed]",
      "text/plain": [
       "<Figure size 432x288 with 1 Axes>"
      ]
     },
     "metadata": {
      "needs_background": "light"
     },
     "output_type": "display_data"
    }
   ],
   "source": [
    "plt.scatter(x,y)\n",
    "plt.title('scatter')\n",
    "plt.grid()\n",
    "plt.xlabel\n",
    "plt.ylabel\n",
    "plt.xticks\n",
    "plt.yticks(range(0,200,10))"
   ]
  },
  {
   "cell_type": "code",
   "execution_count": 11,
   "metadata": {},
   "outputs": [
    {
     "data": {
      "text/plain": [
       "([<matplotlib.axis.YTick at 0x28481c2f400>,\n",
       "  <matplotlib.axis.YTick at 0x28481c2ac10>,\n",
       "  <matplotlib.axis.YTick at 0x28481c2a160>,\n",
       "  <matplotlib.axis.YTick at 0x28481c6a280>,\n",
       "  <matplotlib.axis.YTick at 0x28481c6a700>,\n",
       "  <matplotlib.axis.YTick at 0x28481c6ae50>,\n",
       "  <matplotlib.axis.YTick at 0x28481c6f5e0>,\n",
       "  <matplotlib.axis.YTick at 0x28481c6fd30>,\n",
       "  <matplotlib.axis.YTick at 0x28481c774c0>,\n",
       "  <matplotlib.axis.YTick at 0x28481c77c10>,\n",
       "  <matplotlib.axis.YTick at 0x28481c779a0>,\n",
       "  <matplotlib.axis.YTick at 0x28481c6f6a0>,\n",
       "  <matplotlib.axis.YTick at 0x28481c7b280>,\n",
       "  <matplotlib.axis.YTick at 0x28481c7b9d0>,\n",
       "  <matplotlib.axis.YTick at 0x28481c83160>,\n",
       "  <matplotlib.axis.YTick at 0x28481c838e0>,\n",
       "  <matplotlib.axis.YTick at 0x28481c87070>,\n",
       "  <matplotlib.axis.YTick at 0x28481c83640>,\n",
       "  <matplotlib.axis.YTick at 0x28481c6a970>,\n",
       "  <matplotlib.axis.YTick at 0x28481c870a0>],\n",
       " [Text(0, 0, ''),\n",
       "  Text(0, 0, ''),\n",
       "  Text(0, 0, ''),\n",
       "  Text(0, 0, ''),\n",
       "  Text(0, 0, ''),\n",
       "  Text(0, 0, ''),\n",
       "  Text(0, 0, ''),\n",
       "  Text(0, 0, ''),\n",
       "  Text(0, 0, ''),\n",
       "  Text(0, 0, ''),\n",
       "  Text(0, 0, ''),\n",
       "  Text(0, 0, ''),\n",
       "  Text(0, 0, ''),\n",
       "  Text(0, 0, ''),\n",
       "  Text(0, 0, ''),\n",
       "  Text(0, 0, ''),\n",
       "  Text(0, 0, ''),\n",
       "  Text(0, 0, ''),\n",
       "  Text(0, 0, ''),\n",
       "  Text(0, 0, '')])"
      ]
     },
     "execution_count": 11,
     "metadata": {},
     "output_type": "execute_result"
    },
    {
     "data": {
      "image/png": "[encoded data removed]",
      "text/plain": [
       "<Figure size 432x288 with 1 Axes>"
      ]
     },
     "metadata": {
      "needs_background": "light"
     },
     "output_type": "display_data"
    }
   ],
   "source": [
    "plt.boxplot(x)\n",
    "plt.title('boxlpot')\n",
    "plt.grid()\n",
    "plt.xlabel\n",
    "plt.ylabel\n",
    "plt.xticks\n",
    "plt.yticks(range(0,200,10))"
   ]
  },
  {
   "cell_type": "code",
   "execution_count": 12,
   "metadata": {},
   "outputs": [
    {
     "data": {
      "text/plain": [
       "([<matplotlib.axis.YTick at 0x28481cc1d90>,\n",
       "  <matplotlib.axis.YTick at 0x28481cc1610>,\n",
       "  <matplotlib.axis.YTick at 0x28481cbb4c0>,\n",
       "  <matplotlib.axis.YTick at 0x28481cf9070>,\n",
       "  <matplotlib.axis.YTick at 0x28481cf9730>,\n",
       "  <matplotlib.axis.YTick at 0x28481ce9d60>,\n",
       "  <matplotlib.axis.YTick at 0x28481cfd070>,\n",
       "  <matplotlib.axis.YTick at 0x28481cfd730>,\n",
       "  <matplotlib.axis.YTick at 0x28481cfde20>,\n",
       "  <matplotlib.axis.YTick at 0x28481d075b0>,\n",
       "  <matplotlib.axis.YTick at 0x28481d07d00>,\n",
       "  <matplotlib.axis.YTick at 0x28481d0e490>,\n",
       "  <matplotlib.axis.YTick at 0x28481d07580>,\n",
       "  <matplotlib.axis.YTick at 0x28481cfd2e0>,\n",
       "  <matplotlib.axis.YTick at 0x28481d0e9a0>,\n",
       "  <matplotlib.axis.YTick at 0x28481d14130>,\n",
       "  <matplotlib.axis.YTick at 0x28481d14880>,\n",
       "  <matplotlib.axis.YTick at 0x28481d1b0a0>,\n",
       "  <matplotlib.axis.YTick at 0x28481d14c10>,\n",
       "  <matplotlib.axis.YTick at 0x28481d0ed90>],\n",
       " [Text(0, 0, ''),\n",
       "  Text(0, 0, ''),\n",
       "  Text(0, 0, ''),\n",
       "  Text(0, 0, ''),\n",
       "  Text(0, 0, ''),\n",
       "  Text(0, 0, ''),\n",
       "  Text(0, 0, ''),\n",
       "  Text(0, 0, ''),\n",
       "  Text(0, 0, ''),\n",
       "  Text(0, 0, ''),\n",
       "  Text(0, 0, ''),\n",
       "  Text(0, 0, ''),\n",
       "  Text(0, 0, ''),\n",
       "  Text(0, 0, ''),\n",
       "  Text(0, 0, ''),\n",
       "  Text(0, 0, ''),\n",
       "  Text(0, 0, ''),\n",
       "  Text(0, 0, ''),\n",
       "  Text(0, 0, ''),\n",
       "  Text(0, 0, '')])"
      ]
     },
     "execution_count": 12,
     "metadata": {},
     "output_type": "execute_result"
    },
    {
     "data": {
      "image/png": "[encoded data removed]",
      "text/plain": [
       "<Figure size 432x288 with 1 Axes>"
      ]
     },
     "metadata": {
      "needs_background": "light"
     },
     "output_type": "display_data"
    }
   ],
   "source": [
    "plt.stem(y)\n",
    "plt.title('stem')\n",
    "plt.grid()\n",
    "plt.xlabel\n",
    "plt.ylabel\n",
    "plt.xticks\n",
    "plt.yticks(range(0,200,10))"
   ]
  },
  {
   "cell_type": "code",
   "execution_count": 13,
   "metadata": {},
   "outputs": [
    {
     "data": {
      "text/plain": [
       "([<matplotlib.axis.YTick at 0x284812bab80>,\n",
       "  <matplotlib.axis.YTick at 0x284812ba130>,\n",
       "  <matplotlib.axis.YTick at 0x284812b23d0>,\n",
       "  <matplotlib.axis.YTick at 0x2848197b9a0>,\n",
       "  <matplotlib.axis.YTick at 0x2848198b400>,\n",
       "  <matplotlib.axis.YTick at 0x2848198fd30>,\n",
       "  <matplotlib.axis.YTick at 0x2848198f7f0>,\n",
       "  <matplotlib.axis.YTick at 0x284819ca040>,\n",
       "  <matplotlib.axis.YTick at 0x284819cad00>,\n",
       "  <matplotlib.axis.YTick at 0x2848198bd60>,\n",
       "  <matplotlib.axis.YTick at 0x2848127b2e0>,\n",
       "  <matplotlib.axis.YTick at 0x2848127bdf0>,\n",
       "  <matplotlib.axis.YTick at 0x28481284c40>,\n",
       "  <matplotlib.axis.YTick at 0x28481284040>,\n",
       "  <matplotlib.axis.YTick at 0x28481284520>,\n",
       "  <matplotlib.axis.YTick at 0x284812842b0>,\n",
       "  <matplotlib.axis.YTick at 0x2848127bf70>,\n",
       "  <matplotlib.axis.YTick at 0x28481259ac0>,\n",
       "  <matplotlib.axis.YTick at 0x28481259f70>,\n",
       "  <matplotlib.axis.YTick at 0x284819b0a90>],\n",
       " [Text(0, 0, ''),\n",
       "  Text(0, 0, ''),\n",
       "  Text(0, 0, ''),\n",
       "  Text(0, 0, ''),\n",
       "  Text(0, 0, ''),\n",
       "  Text(0, 0, ''),\n",
       "  Text(0, 0, ''),\n",
       "  Text(0, 0, ''),\n",
       "  Text(0, 0, ''),\n",
       "  Text(0, 0, ''),\n",
       "  Text(0, 0, ''),\n",
       "  Text(0, 0, ''),\n",
       "  Text(0, 0, ''),\n",
       "  Text(0, 0, ''),\n",
       "  Text(0, 0, ''),\n",
       "  Text(0, 0, ''),\n",
       "  Text(0, 0, ''),\n",
       "  Text(0, 0, ''),\n",
       "  Text(0, 0, ''),\n",
       "  Text(0, 0, '')])"
      ]
     },
     "execution_count": 13,
     "metadata": {},
     "output_type": "execute_result"
    },
    {
     "data": {
      "image/png": "[encoded data removed]",
      "text/plain": [
       "<Figure size 432x288 with 1 Axes>"
      ]
     },
     "metadata": {
      "needs_background": "light"
     },
     "output_type": "display_data"
    }
   ],
   "source": [
    "plt.violinplot(y)\n",
    "plt.title('violinplot')\n",
    "plt.grid()\n",
    "plt.xlabel\n",
    "plt.ylabel\n",
    "plt.xticks\n",
    "plt.yticks(range(0,200,10))"
   ]
  },
  {
   "cell_type": "code",
   "execution_count": 14,
   "metadata": {},
   "outputs": [
    {
     "data": {
      "text/plain": [
       "([<matplotlib.axis.YTick at 0x28482d32d30>,\n",
       "  <matplotlib.axis.YTick at 0x28482d325b0>,\n",
       "  <matplotlib.axis.YTick at 0x28481d0e730>,\n",
       "  <matplotlib.axis.YTick at 0x28482d5e730>,\n",
       "  <matplotlib.axis.YTick at 0x28482d5ee80>,\n",
       "  <matplotlib.axis.YTick at 0x28482d5eb20>,\n",
       "  <matplotlib.axis.YTick at 0x28482d677c0>,\n",
       "  <matplotlib.axis.YTick at 0x28482d6c070>,\n",
       "  <matplotlib.axis.YTick at 0x28482d6c6a0>,\n",
       "  <matplotlib.axis.YTick at 0x28482d6cdf0>,\n",
       "  <matplotlib.axis.YTick at 0x28482d74580>,\n",
       "  <matplotlib.axis.YTick at 0x28482d6ce50>,\n",
       "  <matplotlib.axis.YTick at 0x28482d67ca0>,\n",
       "  <matplotlib.axis.YTick at 0x28482d74820>,\n",
       "  <matplotlib.axis.YTick at 0x28482d7a2b0>,\n",
       "  <matplotlib.axis.YTick at 0x28482d7aa00>,\n",
       "  <matplotlib.axis.YTick at 0x28482d81190>,\n",
       "  <matplotlib.axis.YTick at 0x28482d818e0>,\n",
       "  <matplotlib.axis.YTick at 0x28482d7aac0>,\n",
       "  <matplotlib.axis.YTick at 0x28482d675b0>],\n",
       " [Text(0, 0, ''),\n",
       "  Text(0, 0, ''),\n",
       "  Text(0, 0, ''),\n",
       "  Text(0, 0, ''),\n",
       "  Text(0, 0, ''),\n",
       "  Text(0, 0, ''),\n",
       "  Text(0, 0, ''),\n",
       "  Text(0, 0, ''),\n",
       "  Text(0, 0, ''),\n",
       "  Text(0, 0, ''),\n",
       "  Text(0, 0, ''),\n",
       "  Text(0, 0, ''),\n",
       "  Text(0, 0, ''),\n",
       "  Text(0, 0, ''),\n",
       "  Text(0, 0, ''),\n",
       "  Text(0, 0, ''),\n",
       "  Text(0, 0, ''),\n",
       "  Text(0, 0, ''),\n",
       "  Text(0, 0, ''),\n",
       "  Text(0, 0, '')])"
      ]
     },
     "execution_count": 14,
     "metadata": {},
     "output_type": "execute_result"
    },
    {
     "data": {
      "image/png": "[encoded data removed]",
      "text/plain": [
       "<Figure size 432x288 with 1 Axes>"
      ]
     },
     "metadata": {
      "needs_background": "light"
     },
     "output_type": "display_data"
    }
   ],
   "source": [
    "plt.violinplot(x)\n",
    "plt.title('violinplot')\n",
    "plt.grid()\n",
    "plt.xlabel\n",
    "plt.ylabel\n",
    "plt.xticks\n",
    "plt.yticks(range(0,200,10))"
   ]
  },
  {
   "cell_type": "code",
   "execution_count": 15,
   "metadata": {},
   "outputs": [],
   "source": [
    "y2 = x**4"
   ]
  },
  {
   "cell_type": "code",
   "execution_count": 16,
   "metadata": {},
   "outputs": [
    {
     "data": {
      "image/png": "[encoded data removed]",
      "text/plain": [
       "<Figure size 432x288 with 1 Axes>"
      ]
     },
     "metadata": {
      "needs_background": "light"
     },
     "output_type": "display_data"
    }
   ],
   "source": [
    "\n",
    "plt.legend(['y=x**3','y2=x**4'])\n",
    "plt.show()\n"
   ]
  },
  {
   "cell_type": "code",
   "execution_count": 18,
   "metadata": {},
   "outputs": [
    {
     "data": {
      "image/png": "[encoded data removed]",
      "text/plain": [
       "<Figure size 720x360 with 1 Axes>"
      ]
     },
     "metadata": {
      "needs_background": "light"
     },
     "output_type": "display_data"
    }
   ],
   "source": [
    "fig =plt.figure(figsize=(10,5))\n",
    "plt.plot(x, y, lw=3, marker='o', markerfacecolor='yellow',markersize=15)\n",
    "plt.grid()\n",
    "plt.plot(x,y2, marker = 'v', markersize =10)\n",
    "plt.legend(['y=x**3','y2=x**4'])\n",
    "plt.show()\n"
   ]
  },
  {
   "cell_type": "code",
   "execution_count": 19,
   "metadata": {},
   "outputs": [],
   "source": [
    "fig.savefig('mygraph.png')"
   ]
  },
  {
   "cell_type": "code",
   "execution_count": null,
   "metadata": {},
   "outputs": [],
   "source": []
  }
 ],
 "metadata": {
  "kernelspec": {
   "display_name": "Python 3.9.12 ('base')",
   "language": "python",
   "name": "python3"
  },
  "language_info": {
   "codemirror_mode": {
    "name": "ipython",
    "version": 3
   },
   "file_extension": ".py",
   "mimetype": "text/x-python",
   "name": "python",
   "nbconvert_exporter": "python",
   "pygments_lexer": "ipython3",
   "version": "3.9.12"
  },
  "orig_nbformat": 4,
  "vscode": {
   "interpreter": {
    "hash": "9c1d5a056f04d97314a9f946bc8c5185004572d3d68312220c0ba298420421f7"
   }
  }
 },
 "nbformat": 4,
 "nbformat_minor": 2
}
